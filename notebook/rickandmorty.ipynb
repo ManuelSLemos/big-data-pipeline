{
 "cells": [
  {
   "cell_type": "markdown",
   "id": "9626156f",
   "metadata": {},
   "source": [
    "# RickandMorty Notebook\n",
    "\n",
    "Vamos a crear un scrapper de la página web de rickandmorty para crear nuestro primer datawarehouse"
   ]
  },
  {
   "cell_type": "code",
   "execution_count": null,
   "id": "89435f88",
   "metadata": {},
   "outputs": [],
   "source": [
    "# Instalar depedencias\n",
    "!pip install beautifulsoup4 lxml"
   ]
  },
  {
   "cell_type": "code",
   "execution_count": null,
   "id": "cd6f90ef-b2bd-4e44-bd71-531393fb185f",
   "metadata": {},
   "outputs": [],
   "source": [
    "# Importamos dependencias\n",
    "\n",
    "import requests\n",
    "# import selenium\n",
    "from bs4 import BeautifulSoup"
   ]
  },
  {
   "cell_type": "code",
   "execution_count": null,
   "id": "3e87e1f3",
   "metadata": {},
   "outputs": [],
   "source": [
    "URL = 'https://rick-and-morty-gui-leandro.vercel.app/'\n",
    "\n",
    "source_page = requests.get(URL).text\n",
    "\n",
    "source_page"
   ]
  },
  {
   "cell_type": "code",
   "execution_count": null,
   "id": "af350fa5",
   "metadata": {},
   "outputs": [],
   "source": [
    "soup = BeautifulSoup(source_page, 'html.parser')\n",
    "\n",
    "soup"
   ]
  },
  {
   "cell_type": "code",
   "execution_count": null,
   "id": "0ac48e97",
   "metadata": {},
   "outputs": [],
   "source": [
    "name = soup.select('#__next > main > div.home__CharContainer-sc-14ot2xn-4.jSjhCz > a:nth-child(10) > span')\n",
    "\n",
    "name"
   ]
  }
 ],
 "metadata": {
  "kernelspec": {
   "display_name": "Python 3 (ipykernel)",
   "language": "python",
   "name": "python3"
  },
  "language_info": {
   "codemirror_mode": {
    "name": "ipython",
    "version": 3
   },
   "file_extension": ".py",
   "mimetype": "text/x-python",
   "name": "python",
   "nbconvert_exporter": "python",
   "pygments_lexer": "ipython3",
   "version": "3.10.13"
  }
 },
 "nbformat": 4,
 "nbformat_minor": 5
}
